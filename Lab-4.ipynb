{
 "cells": [
  {
   "cell_type": "markdown",
   "id": "02b33ee5",
   "metadata": {},
   "source": [
    "<a href='https://www.darshan.ac.in/'> <img src='https://www.darshan.ac.in/Content/media/DU_Logo.svg' width=\"250\" height=\"300\"/></a>\n",
    "<pre>\n",
    "<center><b><h1>Data Mining</b></center>\n",
    "<center><b><h1>Lab - 4</b></center> \n",
    "<h4>Name: Bhadra Mohitkumar Ajay</h4>\n",
    "<h3>Enrollment: 23010101605</h3>\n",
    "<pre>"
   ]
  },
  {
   "cell_type": "markdown",
   "id": "0ddd064f",
   "metadata": {},
   "source": [
    "# Part -1"
   ]
  },
  {
   "cell_type": "markdown",
   "id": "6e290312",
   "metadata": {},
   "source": [
    "### 1) Write a python program to compute distance between Given two objects represented by the tuples (22, 1, 42, 10) and (20, 0, 36, 8): \n",
    "(a) Compute the Euclidean distance between the two objects. <BR>\n",
    "(b) Compute the Manhattan distance between the two objects. <BR>\n",
    "(c) Compute the Minkowski distance between the two objects, using q = 3. <BR>\n",
    "(d) Compute the supremum distance between the two objects.<BR>\n"
   ]
  },
  {
   "cell_type": "code",
   "execution_count": 1,
   "id": "57de87d3",
   "metadata": {},
   "outputs": [
    {
     "name": "stdout",
     "output_type": "stream",
     "text": [
      "Euclidean Distance::  6.4031242374328485\n",
      "Manhattan Distance::  52\n",
      "Minkowski Distance::  5.915481699700716\n",
      "Supremum Distance::  207\n"
     ]
    }
   ],
   "source": [
    "import math as m\n",
    "x = (20,2,30,10)\n",
    "y = (20,5,34,6)\n",
    "\n",
    "sum = 0\n",
    "\n",
    "for i in range(len(x)):\n",
    "    sum += (x[i] - y[i])**2\n",
    "print(\"Euclidean Distance:: \", m.sqrt(sum))\n",
    "\n",
    "for i in range(len(x)):\n",
    "    sum += (abs(x[i] - y[i]))\n",
    "print(\"Manhattan Distance:: \",sum)\n",
    "\n",
    "for i in range(len(x)):\n",
    "    sum += (abs(x[i] - y[i]))**3\n",
    "print(\"Minkowski Distance:: \",(sum)**(1/3))\n",
    "\n",
    "for i in range(len(x)):\n",
    "    sum =max(sum,abs(x[i] - y[i]))\n",
    "print(\"Supremum Distance:: \",sum)"
   ]
  },
  {
   "cell_type": "markdown",
   "id": "14798cf7",
   "metadata": {},
   "source": [
    "### 2) Perform Preprocessing on Titanic Data set Using Orange Tools"
   ]
  },
  {
   "cell_type": "markdown",
   "id": "8bc0a247",
   "metadata": {},
   "source": [
    "### 3) Kindly Perform Data Exploration on New Restaurant Data Set\n",
    "\n",
    "Link - https://github.com/guipsamora/pandas_exercises/blob/master/01_Getting_%26_Knowing_Your_Data/Chipotle/Exercises.ipynb"
   ]
  },
  {
   "cell_type": "code",
   "execution_count": null,
   "id": "e4f709f6",
   "metadata": {},
   "outputs": [],
   "source": []
  },
  {
   "cell_type": "markdown",
   "id": "8756bc0e",
   "metadata": {},
   "source": [
    "# PART - 2"
   ]
  },
  {
   "cell_type": "code",
   "execution_count": null,
   "id": "523e1ccd",
   "metadata": {},
   "outputs": [],
   "source": [
    "import pandas as pd"
   ]
  },
  {
   "cell_type": "markdown",
   "id": "b350ed2e",
   "metadata": {},
   "source": [
    "### 1)  First, you need to read the titanic dataset from local disk and display Last five records\n"
   ]
  },
  {
   "cell_type": "code",
   "execution_count": null,
   "id": "6b763f3d",
   "metadata": {},
   "outputs": [],
   "source": [
    "df = pd.read_csv('titanicC.csv')\n",
    "df"
   ]
  },
  {
   "cell_type": "markdown",
   "id": "1b89cd9d",
   "metadata": {},
   "source": [
    "### 2)  Handle Missing Values in data set [use dropna(), fillna(), and interpolate]\n"
   ]
  },
  {
   "cell_type": "code",
   "execution_count": null,
   "id": "5e02a41d",
   "metadata": {},
   "outputs": [],
   "source": [
    "df.count()"
   ]
  },
  {
   "cell_type": "code",
   "execution_count": null,
   "id": "9010802e",
   "metadata": {},
   "outputs": [],
   "source": [
    "\n",
    "df.isnull().sum()"
   ]
  },
  {
   "cell_type": "code",
   "execution_count": null,
   "id": "bb1385cf",
   "metadata": {},
   "outputs": [],
   "source": [
    "df1 =df.dropna()\n",
    "df1"
   ]
  },
  {
   "cell_type": "code",
   "execution_count": null,
   "id": "fd823326",
   "metadata": {},
   "outputs": [],
   "source": [
    "df1= df.fillna({'Age':'0','Cabin':'notdifined','Embarked':'notgive'})\n",
    "df1"
   ]
  },
  {
   "cell_type": "code",
   "execution_count": null,
   "id": "dac9cfd8",
   "metadata": {},
   "outputs": [],
   "source": [
    "df1.isnull().sum()"
   ]
  },
  {
   "cell_type": "code",
   "execution_count": null,
   "id": "f82eb361",
   "metadata": {},
   "outputs": [],
   "source": [
    "df.Age.interpolate(method='linear',limit_direction='forward',axis=0)\n"
   ]
  },
  {
   "cell_type": "code",
   "execution_count": null,
   "id": "7e015703",
   "metadata": {},
   "outputs": [],
   "source": [
    "df4=df\n",
    "df4['Age']=df4['Age'].interpolate(method='linear',limit_direction='forward',axis=0)\n",
    "df4"
   ]
  },
  {
   "cell_type": "markdown",
   "id": "165e9a52",
   "metadata": {},
   "source": [
    "### 3) Write programs to perform the following tasks of preprocessing.\n",
    "\n",
    "Equal Width Binning <BR>\n",
    "Equal Frequency/Depth Binning"
   ]
  },
  {
   "cell_type": "code",
   "execution_count": null,
   "id": "a9343b46",
   "metadata": {},
   "outputs": [],
   "source": [
    "import numpy as np\n",
    "\n",
    "data=[5,10,11,13,15,35,50,55,72,92,204,215]\n",
    "temp = pd.DataFrame(data,columns=['Value'])\n",
    "num_bins=3\n",
    "bin_edges= np.linspace(temp['Value'].min(),temp['Value'].max(),num_bins+1)\n",
    "temp['Equal_Width_Bin'] = pd.cut(temp['Value'],bins=bin_edges,labels=False,include_lowest=True)\n",
    "print(\"Equal width Binning:: \\n\",temp)\n"
   ]
  },
  {
   "cell_type": "code",
   "execution_count": null,
   "id": "371148af",
   "metadata": {},
   "outputs": [],
   "source": [
    "data=[5,10,11,13,15,35,50,55,72,92,204,215]\n",
    "num_bins=3\n",
    "no_of_data = len(data)\n",
    "points_in_bin = no_of_data / num_bins\n",
    "\n",
    "for i  in range (0,len(data),int(points_in_bin)):\n",
    "    print(data[i:i+int(points_in_bin)])"
   ]
  },
  {
   "cell_type": "markdown",
   "id": "6c580aff",
   "metadata": {},
   "source": [
    "### 4)  Apply Scaling to AGE attribute with min max, decimal scaling and z score.\n"
   ]
  },
  {
   "cell_type": "code",
   "execution_count": null,
   "id": "13dc27bc",
   "metadata": {},
   "outputs": [],
   "source": [
    "import pandas as pd\n",
    "import numpy as np\n",
    "\n",
    "##MinMax\n",
    "df5=df1\n",
    "new_max=1\n",
    "new_min=0\n",
    "df5['Age_MinMax'] = (((df1['Age'] - df1['Age'].min()) / (df1['Age'].max()) - df1['Age'].min())) \n",
    "df5"
   ]
  },
  {
   "cell_type": "code",
   "execution_count": null,
   "id": "5c4c9c80",
   "metadata": {},
   "outputs": [],
   "source": [
    "##Decimal\n",
    "df5['Decimal_scall'] = df['Age']/10**len(str(int(df['Age'].max())))\n",
    "df5"
   ]
  },
  {
   "cell_type": "code",
   "execution_count": null,
   "id": "f17c2c57",
   "metadata": {},
   "outputs": [],
   "source": [
    "##ZScore\n",
    "\n",
    "df5['age_zscore'] = (df1['Age'] - df1['Age'].mean()) / df1['Age'].std()\n",
    "df5"
   ]
  }
 ],
 "metadata": {
  "kernelspec": {
   "display_name": "Python 3 (ipykernel)",
   "language": "python",
   "name": "python3"
  },
  "language_info": {
   "codemirror_mode": {
    "name": "ipython",
    "version": 3
   },
   "file_extension": ".py",
   "mimetype": "text/x-python",
   "name": "python",
   "nbconvert_exporter": "python",
   "pygments_lexer": "ipython3",
   "version": "3.12.4"
  }
 },
 "nbformat": 4,
 "nbformat_minor": 5
}
